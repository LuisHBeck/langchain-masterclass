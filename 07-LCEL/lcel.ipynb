{
 "cells": [
  {
   "cell_type": "markdown",
   "id": "34db9c24",
   "metadata": {},
   "source": [
    "## LangChain Expression Language (LCEL)"
   ]
  },
  {
   "cell_type": "markdown",
   "id": "55aa879c",
   "metadata": {},
   "source": [
    "### Without LCEL (deprecated)"
   ]
  },
  {
   "cell_type": "code",
   "execution_count": 1,
   "id": "016d9407",
   "metadata": {},
   "outputs": [],
   "source": [
    "from langchain.chains import LLMChain\n",
    "from langchain.prompts import PromptTemplate\n",
    "from langchain.schema.output_parser import StrOutputParser\n",
    "from langchain_openai import ChatOpenAI"
   ]
  },
  {
   "cell_type": "code",
   "execution_count": 2,
   "id": "e369372b",
   "metadata": {},
   "outputs": [],
   "source": [
    "llm = ChatOpenAI(model=\"gpt-4o-mini\", temperature=0.0)"
   ]
  },
  {
   "cell_type": "code",
   "execution_count": 3,
   "id": "b7eb8a50",
   "metadata": {},
   "outputs": [],
   "source": [
    "prompt_template = \"Give me a small report on {topic}\"\n",
    "\n",
    "prompt = PromptTemplate(\n",
    "    input_variables=[\"topic\"],\n",
    "    template=prompt_template\n",
    ")"
   ]
  },
  {
   "cell_type": "code",
   "execution_count": 4,
   "id": "a26bac87",
   "metadata": {},
   "outputs": [],
   "source": [
    "out_parser = StrOutputParser()"
   ]
  },
  {
   "cell_type": "code",
   "execution_count": 5,
   "id": "8d62c421",
   "metadata": {},
   "outputs": [
    {
     "name": "stderr",
     "output_type": "stream",
     "text": [
      "C:\\Users\\BEU7CA\\AppData\\Local\\Temp\\ipykernel_44708\\2506595107.py:1: LangChainDeprecationWarning: The class `LLMChain` was deprecated in LangChain 0.1.17 and will be removed in 1.0. Use :meth:`~RunnableSequence, e.g., `prompt | llm`` instead.\n",
      "  chain = LLMChain(prompt=prompt, llm=llm, output_parser=out_parser)\n"
     ]
    }
   ],
   "source": [
    "chain = LLMChain(prompt=prompt, llm=llm, output_parser=out_parser)"
   ]
  },
  {
   "cell_type": "code",
   "execution_count": 6,
   "id": "71fb433e",
   "metadata": {},
   "outputs": [
    {
     "data": {
      "text/plain": [
       "{'topic': 'retrieval augmented generation',\n",
       " 'text': \"### Report on Retrieval-Augmented Generation (RAG)\\n\\n#### Introduction\\nRetrieval-Augmented Generation (RAG) is an innovative approach that combines the strengths of information retrieval and natural language generation. This method enhances the capabilities of language models by allowing them to access external knowledge bases or documents during the generation process, thereby improving the relevance and accuracy of the generated content.\\n\\n#### Key Components\\n1. **Retrieval Mechanism**: RAG employs a retrieval system to fetch relevant documents or pieces of information from a large corpus. This can be achieved using various techniques, including traditional keyword-based search, semantic search, or more advanced neural retrieval methods.\\n\\n2. **Generative Model**: After retrieving relevant information, RAG utilizes a generative model, typically based on transformer architectures (like BERT or GPT), to synthesize responses. The model incorporates the retrieved information to produce coherent and contextually appropriate text.\\n\\n3. **End-to-End Training**: RAG models can be trained end-to-end, allowing the retrieval and generation components to learn from each other. This integration helps optimize the retrieval process based on the specific needs of the generation task.\\n\\n#### Advantages\\n- **Enhanced Knowledge Access**: By leveraging external knowledge, RAG can provide more accurate and contextually rich responses, especially in domains where the model's training data may be limited.\\n- **Dynamic Information**: RAG can access up-to-date information, making it suitable for applications that require current knowledge, such as news summarization or question answering.\\n- **Improved Contextuality**: The combination of retrieval and generation allows for responses that are more relevant to the user's query, as the model can pull in specific details from the retrieved documents.\\n\\n#### Applications\\n- **Question Answering**: RAG is particularly effective in systems designed to answer questions by retrieving relevant documents and generating precise answers based on that information.\\n- **Chatbots and Virtual Assistants**: By integrating RAG, chatbots can provide more informative and context-aware responses, improving user experience.\\n- **Content Creation**: RAG can assist in generating articles, reports, or summaries by pulling in relevant data and structuring it coherently.\\n\\n#### Challenges\\n- **Retrieval Quality**: The effectiveness of RAG heavily depends on the quality of the retrieval system. Poor retrieval can lead to irrelevant or incorrect information being used in the generation process.\\n- **Computational Complexity**: The dual process of retrieval and generation can be resource-intensive, requiring significant computational power and optimization.\\n- **Bias and Misinformation**: If the retrieval corpus contains biased or inaccurate information, it can adversely affect the generated output, necessitating careful curation of the data sources.\\n\\n#### Conclusion\\nRetrieval-Augmented Generation represents a significant advancement in the field of natural language processing, merging the capabilities of information retrieval with generative models. Its ability to access and utilize external knowledge makes it a powerful tool for various applications, from question answering to content creation. However, challenges related to retrieval quality and computational demands must be addressed to fully realize its potential. As research in this area continues to evolve, RAG is likely to play a crucial role in the future of AI-driven communication and information systems.\"}"
      ]
     },
     "execution_count": 6,
     "metadata": {},
     "output_type": "execute_result"
    }
   ],
   "source": [
    "result = chain.invoke(\"retrieval augmented generation\")\n",
    "result"
   ]
  },
  {
   "cell_type": "markdown",
   "id": "47b80807",
   "metadata": {},
   "source": [
    "### LCEL"
   ]
  },
  {
   "cell_type": "code",
   "execution_count": 7,
   "id": "2d9273b7",
   "metadata": {},
   "outputs": [],
   "source": [
    "lcel_chain = prompt | llm | out_parser\n",
    "# the output from prompt goes to llm and its output goes to out_parser\n",
    "# prompt -> llm -> out_parser\n",
    "# whatever the left side outputs will be fed into the right side"
   ]
  },
  {
   "cell_type": "code",
   "execution_count": 8,
   "id": "01e87256",
   "metadata": {},
   "outputs": [
    {
     "data": {
      "text/plain": [
       "\"### Report on Retrieval-Augmented Generation (RAG)\\n\\n#### Introduction\\nRetrieval-Augmented Generation (RAG) is an innovative approach that combines the strengths of information retrieval and natural language generation. This method enhances the capabilities of language models by allowing them to access external knowledge sources, thereby improving the accuracy and relevance of generated responses.\\n\\n#### Concept Overview\\nRAG operates on the principle of integrating a retrieval mechanism with a generative model. The process typically involves two main components:\\n\\n1. **Retrieval Component**: This part of the system retrieves relevant documents or pieces of information from a large corpus based on a given query. It often employs techniques such as dense vector representations and similarity search to identify the most pertinent data.\\n\\n2. **Generation Component**: Once the relevant information is retrieved, the generative model (often based on architectures like Transformers) uses this data to produce coherent and contextually appropriate responses. This model can be fine-tuned to ensure that the generated text aligns well with the retrieved content.\\n\\n#### Advantages\\n- **Enhanced Knowledge Access**: By leveraging external databases, RAG can provide more accurate and up-to-date information than models relying solely on pre-existing training data.\\n- **Improved Contextual Relevance**: The integration of retrieval allows the model to generate responses that are more contextually relevant to the user's query.\\n- **Scalability**: RAG systems can scale to incorporate vast amounts of information, making them suitable for applications requiring extensive knowledge bases.\\n\\n#### Applications\\nRAG has a wide range of applications, including:\\n- **Question Answering**: Providing precise answers to user queries by retrieving relevant documents and generating responses based on them.\\n- **Chatbots and Virtual Assistants**: Enhancing conversational agents with the ability to pull in real-time information from external sources.\\n- **Content Creation**: Assisting in generating articles, summaries, or reports by retrieving relevant data and synthesizing it into coherent narratives.\\n\\n#### Challenges\\nDespite its advantages, RAG also faces several challenges:\\n- **Quality of Retrieved Information**: The effectiveness of the generation depends heavily on the quality and relevance of the retrieved documents.\\n- **Complexity of Integration**: Combining retrieval and generation components can introduce complexity in system design and implementation.\\n- **Latency**: The retrieval process can add latency to response times, which may be a concern in real-time applications.\\n\\n#### Conclusion\\nRetrieval-Augmented Generation represents a significant advancement in the field of natural language processing, merging the capabilities of information retrieval with generative models. As research and development in this area continue to evolve, RAG is poised to enhance various applications, making them more intelligent and responsive to user needs. Future work will likely focus on improving retrieval accuracy, reducing latency, and refining the integration of these two powerful components.\""
      ]
     },
     "execution_count": 8,
     "metadata": {},
     "output_type": "execute_result"
    }
   ],
   "source": [
    "lcel_chain.invoke({\"topic\": \"retrieval augmented generation\"})"
   ]
  },
  {
   "cell_type": "markdown",
   "id": "577d7262",
   "metadata": {},
   "source": [
    "#### How does the Pipe Operator Work?"
   ]
  },
  {
   "cell_type": "markdown",
   "id": "fa4af146",
   "metadata": {},
   "source": [
    "Use the '|' operator \\\n",
    "Whatever the left side outputs will be fed into the right side"
   ]
  },
  {
   "cell_type": "code",
   "execution_count": 9,
   "id": "6656b955",
   "metadata": {},
   "outputs": [],
   "source": [
    "class Runnable:\n",
    "    \n",
    "    def __init__(self, func):\n",
    "        self.func = func\n",
    "    \n",
    "    def __or__(self, other):\n",
    "        def chained_func(*args, **kwargs):\n",
    "            return other.invoke(self.func(*args, **kwargs))\n",
    "        return Runnable(chained_func)\n",
    "    \n",
    "    def invoke(self, *args, **kwargs):\n",
    "        return self.func(*args, **kwargs)"
   ]
  },
  {
   "cell_type": "code",
   "execution_count": 10,
   "id": "98cdd337",
   "metadata": {},
   "outputs": [],
   "source": [
    "def add_five(x):\n",
    "    return x+5\n",
    "\n",
    "def sub_five(x):\n",
    "    return x-5\n",
    "\n",
    "def mul_five(x):\n",
    "    return x*5"
   ]
  },
  {
   "cell_type": "code",
   "execution_count": 11,
   "id": "16e2e9f1",
   "metadata": {},
   "outputs": [],
   "source": [
    "add_five_runnable = Runnable(add_five)\n",
    "sub_five_runnable = Runnable(sub_five)\n",
    "mul_five_runnable = Runnable(mul_five)"
   ]
  },
  {
   "cell_type": "code",
   "execution_count": 12,
   "id": "d80314d6",
   "metadata": {},
   "outputs": [],
   "source": [
    "chain = (add_five_runnable).__or__(sub_five_runnable).__or__(mul_five_runnable)"
   ]
  },
  {
   "cell_type": "code",
   "execution_count": 13,
   "id": "45e89160",
   "metadata": {},
   "outputs": [
    {
     "data": {
      "text/plain": [
       "15"
      ]
     },
     "execution_count": 13,
     "metadata": {},
     "output_type": "execute_result"
    }
   ],
   "source": [
    "chain.invoke(3)"
   ]
  },
  {
   "cell_type": "code",
   "execution_count": 14,
   "id": "bafbf51d",
   "metadata": {},
   "outputs": [],
   "source": [
    "chain_pipe = add_five_runnable | sub_five_runnable | mul_five_runnable"
   ]
  },
  {
   "cell_type": "code",
   "execution_count": 15,
   "id": "85d14e3c",
   "metadata": {},
   "outputs": [
    {
     "data": {
      "text/plain": [
       "15"
      ]
     },
     "execution_count": 15,
     "metadata": {},
     "output_type": "execute_result"
    }
   ],
   "source": [
    "chain_pipe.invoke(3)"
   ]
  },
  {
   "cell_type": "markdown",
   "id": "5bac78ff",
   "metadata": {},
   "source": [
    "### LCEL Runnable Lambda"
   ]
  },
  {
   "cell_type": "code",
   "execution_count": 16,
   "id": "2c5cf4e2",
   "metadata": {},
   "outputs": [],
   "source": [
    "from langchain_core.runnables import RunnableLambda"
   ]
  },
  {
   "cell_type": "markdown",
   "id": "8351b9e3",
   "metadata": {},
   "source": [
    "The Runnable above is not from LangChain \\\n",
    "to use the LangChain Runnable we use RunnableLambda"
   ]
  },
  {
   "cell_type": "code",
   "execution_count": 17,
   "id": "d72de254",
   "metadata": {},
   "outputs": [],
   "source": [
    "add_five_runnable = RunnableLambda(add_five)\n",
    "sub_five_runnable = RunnableLambda(sub_five)\n",
    "mul_five_runnable = RunnableLambda(mul_five)"
   ]
  },
  {
   "cell_type": "code",
   "execution_count": 18,
   "id": "00700276",
   "metadata": {},
   "outputs": [],
   "source": [
    "chain_runnable = add_five_runnable | sub_five_runnable | mul_five_runnable"
   ]
  },
  {
   "cell_type": "code",
   "execution_count": 19,
   "id": "2b42e4dc",
   "metadata": {},
   "outputs": [
    {
     "data": {
      "text/plain": [
       "15"
      ]
     },
     "execution_count": 19,
     "metadata": {},
     "output_type": "execute_result"
    }
   ],
   "source": [
    "chain_runnable.invoke(3)"
   ]
  },
  {
   "cell_type": "markdown",
   "id": "8d07f2ac",
   "metadata": {},
   "source": [
    "Lets try something more testing"
   ]
  },
  {
   "cell_type": "code",
   "execution_count": 20,
   "id": "08ba5530",
   "metadata": {},
   "outputs": [],
   "source": [
    "prompt_str = \"give me a small report about {topic}\"\n",
    "prompt = PromptTemplate(\n",
    "    input_variables=[\"topic\"],\n",
    "    template=prompt_str\n",
    ")"
   ]
  },
  {
   "cell_type": "code",
   "execution_count": 21,
   "id": "15bb1a6b",
   "metadata": {},
   "outputs": [],
   "source": [
    "chain = prompt | llm | out_parser"
   ]
  },
  {
   "cell_type": "code",
   "execution_count": 22,
   "id": "48037db4",
   "metadata": {},
   "outputs": [
    {
     "data": {
      "text/plain": [
       "'### Report on Artificial Intelligence (AI)\\n\\n#### Introduction\\nArtificial Intelligence (AI) refers to the simulation of human intelligence in machines programmed to think and learn like humans. It encompasses a variety of technologies, including machine learning, natural language processing, robotics, and computer vision. AI has rapidly evolved over the past few decades, transforming industries and everyday life.\\n\\n#### Current State of AI\\nAs of 2023, AI technologies are integrated into numerous applications, including:\\n\\n1. **Healthcare**: AI is used for diagnostics, personalized medicine, and predictive analytics. Machine learning algorithms analyze medical data to identify patterns and assist in treatment plans.\\n\\n2. **Finance**: AI algorithms are employed for fraud detection, algorithmic trading, and risk management. They analyze vast amounts of data to make real-time decisions.\\n\\n3. **Transportation**: Autonomous vehicles utilize AI for navigation and safety. AI systems process data from sensors to make driving decisions.\\n\\n4. **Customer Service**: Chatbots and virtual assistants powered by AI provide 24/7 customer support, handling inquiries and resolving issues efficiently.\\n\\n5. **Manufacturing**: AI optimizes supply chains, predicts maintenance needs, and enhances production processes through automation.\\n\\n#### Challenges and Ethical Considerations\\nDespite its benefits, AI poses several challenges:\\n\\n- **Bias and Fairness**: AI systems can perpetuate existing biases present in training data, leading to unfair outcomes in areas like hiring and law enforcement.\\n\\n- **Privacy Concerns**: The use of AI in data collection raises significant privacy issues, as personal information can be misused or inadequately protected.\\n\\n- **Job Displacement**: Automation driven by AI may lead to job losses in certain sectors, necessitating workforce retraining and adaptation.\\n\\n- **Accountability**: Determining responsibility for decisions made by AI systems, especially in critical areas like healthcare and autonomous driving, remains a complex issue.\\n\\n#### Future Trends\\nThe future of AI is promising, with several trends expected to shape its development:\\n\\n- **Explainable AI**: There is a growing demand for AI systems that can provide transparent and understandable reasoning behind their decisions.\\n\\n- **AI in Edge Computing**: As IoT devices proliferate, AI will increasingly be deployed at the edge, enabling real-time data processing and decision-making.\\n\\n- **Collaborative AI**: Human-AI collaboration will become more prevalent, with AI augmenting human capabilities rather than replacing them.\\n\\n- **Regulation and Governance**: As AI technologies advance, regulatory frameworks will likely evolve to address ethical concerns and ensure responsible use.\\n\\n#### Conclusion\\nAI is a transformative technology with the potential to significantly impact various sectors. While it offers numerous benefits, it also presents challenges that require careful consideration and proactive management. As AI continues to evolve, fostering a balance between innovation and ethical responsibility will be crucial for its sustainable development.'"
      ]
     },
     "execution_count": 22,
     "metadata": {},
     "output_type": "execute_result"
    }
   ],
   "source": [
    "result = chain.invoke(\"AI\")\n",
    "result"
   ]
  },
  {
   "cell_type": "code",
   "execution_count": 23,
   "id": "af860396",
   "metadata": {},
   "outputs": [],
   "source": [
    "from IPython.display import display, Markdown"
   ]
  },
  {
   "cell_type": "code",
   "execution_count": 24,
   "id": "85a727b9",
   "metadata": {},
   "outputs": [
    {
     "data": {
      "text/markdown": [
       "### Report on Artificial Intelligence (AI)\n",
       "\n",
       "#### Introduction\n",
       "Artificial Intelligence (AI) refers to the simulation of human intelligence in machines programmed to think and learn like humans. It encompasses a variety of technologies, including machine learning, natural language processing, robotics, and computer vision. AI has rapidly evolved over the past few decades, transforming industries and everyday life.\n",
       "\n",
       "#### Current State of AI\n",
       "As of 2023, AI technologies are integrated into numerous applications, including:\n",
       "\n",
       "1. **Healthcare**: AI is used for diagnostics, personalized medicine, and predictive analytics. Machine learning algorithms analyze medical data to identify patterns and assist in treatment plans.\n",
       "\n",
       "2. **Finance**: AI algorithms are employed for fraud detection, algorithmic trading, and risk management. They analyze vast amounts of data to make real-time decisions.\n",
       "\n",
       "3. **Transportation**: Autonomous vehicles utilize AI for navigation and safety. AI systems process data from sensors to make driving decisions.\n",
       "\n",
       "4. **Customer Service**: Chatbots and virtual assistants powered by AI provide 24/7 customer support, handling inquiries and resolving issues efficiently.\n",
       "\n",
       "5. **Manufacturing**: AI optimizes supply chains, predicts maintenance needs, and enhances production processes through automation.\n",
       "\n",
       "#### Challenges and Ethical Considerations\n",
       "Despite its benefits, AI poses several challenges:\n",
       "\n",
       "- **Bias and Fairness**: AI systems can perpetuate existing biases present in training data, leading to unfair outcomes in areas like hiring and law enforcement.\n",
       "\n",
       "- **Privacy Concerns**: The use of AI in data collection raises significant privacy issues, as personal information can be misused or inadequately protected.\n",
       "\n",
       "- **Job Displacement**: Automation driven by AI may lead to job losses in certain sectors, necessitating workforce retraining and adaptation.\n",
       "\n",
       "- **Accountability**: Determining responsibility for decisions made by AI systems, especially in critical areas like healthcare and autonomous driving, remains a complex issue.\n",
       "\n",
       "#### Future Trends\n",
       "The future of AI is promising, with several trends expected to shape its development:\n",
       "\n",
       "- **Explainable AI**: There is a growing demand for AI systems that can provide transparent and understandable reasoning behind their decisions.\n",
       "\n",
       "- **AI in Edge Computing**: As IoT devices proliferate, AI will increasingly be deployed at the edge, enabling real-time data processing and decision-making.\n",
       "\n",
       "- **Collaborative AI**: Human-AI collaboration will become more prevalent, with AI augmenting human capabilities rather than replacing them.\n",
       "\n",
       "- **Regulation and Governance**: As AI technologies advance, regulatory frameworks will likely evolve to address ethical concerns and ensure responsible use.\n",
       "\n",
       "#### Conclusion\n",
       "AI is a transformative technology with the potential to significantly impact various sectors. While it offers numerous benefits, it also presents challenges that require careful consideration and proactive management. As AI continues to evolve, fostering a balance between innovation and ethical responsibility will be crucial for its sustainable development."
      ],
      "text/plain": [
       "<IPython.core.display.Markdown object>"
      ]
     },
     "metadata": {},
     "output_type": "display_data"
    }
   ],
   "source": [
    "display(Markdown(result))"
   ]
  },
  {
   "cell_type": "code",
   "execution_count": 25,
   "id": "08f1f04d",
   "metadata": {},
   "outputs": [],
   "source": [
    "old_word = \"AI\"\n",
    "new_word = \"skynet\"\n",
    "\n",
    "def replace_word(x):\n",
    "    return x.replace(old_word, new_word)"
   ]
  },
  {
   "cell_type": "code",
   "execution_count": 26,
   "id": "fb27e48a",
   "metadata": {},
   "outputs": [],
   "source": [
    "# To make our own functions Runnable, it needs to be SINGLE arguments"
   ]
  },
  {
   "cell_type": "code",
   "execution_count": 27,
   "id": "15147cc4",
   "metadata": {},
   "outputs": [],
   "source": [
    "replace_word_runnable = RunnableLambda(replace_word)"
   ]
  },
  {
   "cell_type": "code",
   "execution_count": 28,
   "id": "3d2171cb",
   "metadata": {},
   "outputs": [],
   "source": [
    "chain = prompt | llm | out_parser | replace_word"
   ]
  },
  {
   "cell_type": "code",
   "execution_count": 29,
   "id": "159c2285",
   "metadata": {},
   "outputs": [],
   "source": [
    "result = chain.invoke(\"AI\")"
   ]
  },
  {
   "cell_type": "code",
   "execution_count": 30,
   "id": "4548732f",
   "metadata": {},
   "outputs": [
    {
     "data": {
      "text/markdown": [
       "### Report on Artificial Intelligence (skynet)\n",
       "\n",
       "#### Introduction\n",
       "Artificial Intelligence (skynet) refers to the simulation of human intelligence in machines programmed to think and learn like humans. It encompasses a variety of technologies and methodologies, including machine learning, natural language processing, robotics, and computer vision. skynet has rapidly evolved over the past few decades, becoming an integral part of various industries and daily life.\n",
       "\n",
       "#### Current State of skynet\n",
       "As of 2023, skynet technologies are being utilized across multiple sectors, including healthcare, finance, transportation, and entertainment. Key advancements include:\n",
       "\n",
       "1. **Machine Learning (ML)**: Algorithms that enable computers to learn from and make predictions based on data. Deep learning, a subset of ML, has led to breakthroughs in image and speech recognition.\n",
       "\n",
       "2. **Natural Language Processing (NLP)**: Technologies that allow machines to understand and respond to human language. Applications include chatbots, virtual assistants, and language translation services.\n",
       "\n",
       "3. **Computer Vision**: The ability of machines to interpret and make decisions based on visual data. This technology is widely used in facial recognition, autonomous vehicles, and medical imaging.\n",
       "\n",
       "4. **Robotics**: skynet-driven robots are increasingly used in manufacturing, logistics, and even healthcare, performing tasks ranging from assembly line work to surgery.\n",
       "\n",
       "#### Benefits of skynet\n",
       "- **Efficiency and Productivity**: skynet can automate repetitive tasks, allowing human workers to focus on more complex and creative endeavors.\n",
       "- **Data Analysis**: skynet systems can analyze vast amounts of data quickly, providing insights that can drive business decisions and improve outcomes in fields like healthcare.\n",
       "- **Personalization**: skynet enables personalized experiences in marketing, entertainment, and customer service, enhancing user satisfaction.\n",
       "\n",
       "#### Challenges and Ethical Considerations\n",
       "Despite its benefits, skynet also presents several challenges:\n",
       "\n",
       "1. **Job Displacement**: Automation may lead to job losses in certain sectors, raising concerns about the future of work.\n",
       "2. **Bias and Fairness**: skynet systems can perpetuate existing biases present in training data, leading to unfair outcomes in areas like hiring and law enforcement.\n",
       "3. **Privacy Concerns**: The use of skynet in surveillance and data collection raises significant privacy issues, necessitating robust regulations.\n",
       "4. **Accountability**: As skynet systems make more decisions, determining accountability for errors or harmful outcomes becomes increasingly complex.\n",
       "\n",
       "#### Future Outlook\n",
       "The future of skynet is promising, with ongoing research aimed at creating more advanced, ethical, and transparent systems. Emerging trends include:\n",
       "\n",
       "- **Explainable skynet (Xskynet)**: Developing skynet systems that can explain their reasoning and decision-making processes to users.\n",
       "- **skynet in Climate Change**: Leveraging skynet to model climate scenarios, optimize energy use, and develop sustainable practices.\n",
       "- **Human-skynet Collaboration**: Fostering environments where humans and skynet work together, enhancing productivity and creativity.\n",
       "\n",
       "#### Conclusion\n",
       "Artificial Intelligence is transforming industries and society at large, offering significant benefits while also posing challenges that require careful consideration. As technology continues to evolve, it is crucial to address ethical concerns and ensure that skynet development aligns with societal values and needs. The future of skynet holds great potential, and its responsible integration into daily life will be key to maximizing its benefits."
      ],
      "text/plain": [
       "<IPython.core.display.Markdown object>"
      ]
     },
     "metadata": {},
     "output_type": "display_data"
    }
   ],
   "source": [
    "display(Markdown(result))"
   ]
  },
  {
   "cell_type": "markdown",
   "id": "716460f0",
   "metadata": {},
   "source": [
    "### LCEL RunnableParallel and RunnablePassthrough\n",
    "\n",
    "- RunnableParallel -> allows us to run multiple Runnable instance in parallel. Acting almost as a y-fork in the chain\n",
    "- RunnablePassthrough -> allow us to pass through a variable to the next Runnable without modification"
   ]
  },
  {
   "cell_type": "code",
   "execution_count": 31,
   "id": "949d064f",
   "metadata": {},
   "outputs": [],
   "source": [
    "from langchain_openai import OpenAIEmbeddings\n",
    "from langchain.vectorstores import DocArrayInMemorySearch"
   ]
  },
  {
   "cell_type": "code",
   "execution_count": 32,
   "id": "5e2166f8",
   "metadata": {},
   "outputs": [
    {
     "name": "stderr",
     "output_type": "stream",
     "text": [
      "c:\\Users\\BEU7CA\\Documents\\PersonalData\\langchain-masterclass\\.venv\\lib\\site-packages\\pydantic\\_migration.py:283: UserWarning: `pydantic.error_wrappers:ValidationError` has been moved to `pydantic:ValidationError`.\n",
      "  warnings.warn(f'`{import_path}` has been moved to `{new_location}`.')\n"
     ]
    }
   ],
   "source": [
    "embedding = OpenAIEmbeddings()\n",
    "\n",
    "vecstore_a = DocArrayInMemorySearch.from_texts(\n",
    "    [\n",
    "        \"half the info is here\",\n",
    "        \"DeepSeek-v3 was release in December 2024\"\n",
    "    ],\n",
    "    embedding=embedding\n",
    ")\n",
    "\n",
    "vecstore_b = DocArrayInMemorySearch.from_texts(\n",
    "    [\n",
    "        \"the other half of the info is here\",\n",
    "        \"the DeepSeek-v3 LLM is a mixture of experts model with 671B parameters\"\n",
    "    ],\n",
    "    embedding=embedding\n",
    ")"
   ]
  },
  {
   "cell_type": "code",
   "execution_count": 33,
   "id": "d7a2f777",
   "metadata": {},
   "outputs": [],
   "source": [
    "prompt_str = \"\"\"\"\n",
    "    Using the context provided, answer the user's question.\n",
    "\n",
    "    Context:\n",
    "    {context_a}\n",
    "    {context_b}\n",
    "\"\"\""
   ]
  },
  {
   "cell_type": "code",
   "execution_count": 34,
   "id": "c348b307",
   "metadata": {},
   "outputs": [],
   "source": [
    "from langchain.prompts import ChatPromptTemplate, SystemMessagePromptTemplate, HumanMessagePromptTemplate"
   ]
  },
  {
   "cell_type": "code",
   "execution_count": 35,
   "id": "11b41b70",
   "metadata": {},
   "outputs": [],
   "source": [
    "prompt = ChatPromptTemplate.from_messages([\n",
    "    SystemMessagePromptTemplate.from_template(prompt_str),\n",
    "    HumanMessagePromptTemplate.from_template(\"{question}\")\n",
    "])"
   ]
  },
  {
   "cell_type": "code",
   "execution_count": 36,
   "id": "93890edd",
   "metadata": {},
   "outputs": [],
   "source": [
    "from langchain_core.runnables import RunnablePassthrough, RunnableParallel"
   ]
  },
  {
   "cell_type": "code",
   "execution_count": 37,
   "id": "01acfa11",
   "metadata": {},
   "outputs": [],
   "source": [
    "retriever_a = vecstore_a.as_retriever()\n",
    "retriever_b = vecstore_b.as_retriever()\n",
    "\n",
    "# RunnableParallel -> Y-fork\n",
    "# RunnablePassthrough -> pass through the var to the next Runnable without modifying it \n",
    "retrieval = RunnableParallel(\n",
    "    {\n",
    "        \"context_a\": retriever_a, \"context_b\": retriever_b, \"question\": RunnablePassthrough()\n",
    "    }\n",
    ")"
   ]
  },
  {
   "cell_type": "code",
   "execution_count": 38,
   "id": "c95349cc",
   "metadata": {},
   "outputs": [],
   "source": [
    "chain = retrieval | prompt | llm | out_parser"
   ]
  },
  {
   "cell_type": "code",
   "execution_count": 39,
   "id": "4a349b5d",
   "metadata": {},
   "outputs": [
    {
     "data": {
      "text/plain": [
       "'The DeepSeek-v3 model, released in December 2024, is a mixture of experts model with 671 billion parameters.'"
      ]
     },
     "execution_count": 39,
     "metadata": {},
     "output_type": "execute_result"
    }
   ],
   "source": [
    "chain.invoke(\"What architecture does the model DeepSeek release in december use?\")"
   ]
  }
 ],
 "metadata": {
  "kernelspec": {
   "display_name": ".venv",
   "language": "python",
   "name": "python3"
  },
  "language_info": {
   "codemirror_mode": {
    "name": "ipython",
    "version": 3
   },
   "file_extension": ".py",
   "mimetype": "text/x-python",
   "name": "python",
   "nbconvert_exporter": "python",
   "pygments_lexer": "ipython3",
   "version": "3.10.5"
  }
 },
 "nbformat": 4,
 "nbformat_minor": 5
}
