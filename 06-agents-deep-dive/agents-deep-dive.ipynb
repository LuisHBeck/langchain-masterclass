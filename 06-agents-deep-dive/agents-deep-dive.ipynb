{
 "cells": [
  {
   "cell_type": "markdown",
   "id": "5521fb47",
   "metadata": {},
   "source": [
    "## LangChain - Agents Deep Dive"
   ]
  },
  {
   "cell_type": "code",
   "execution_count": 1,
   "id": "77bc32fa",
   "metadata": {},
   "outputs": [],
   "source": [
    "from langchain_core.tools import tool"
   ]
  },
  {
   "cell_type": "code",
   "execution_count": 2,
   "id": "ab80c120",
   "metadata": {},
   "outputs": [],
   "source": [
    "@tool\n",
    "def add(x: float, y: float) -> float:\n",
    "    \"\"\"\n",
    "    Add 'x' and 'y'.\n",
    "    \"\"\"\n",
    "    return x + y\n",
    "\n",
    "\n",
    "@tool\n",
    "def multiply(x: float, y: float) -> float:\n",
    "    \"\"\"\n",
    "    Multiply 'x' and 'y'\n",
    "    \"\"\"\n",
    "    return x * y\n",
    "\n",
    "\n",
    "@tool\n",
    "def exponentiate(x: float, y: float) -> float:\n",
    "    \"\"\"\n",
    "    Raise 'x' to the power of 'y'\n",
    "    \"\"\"\n",
    "    return x**y\n",
    "\n",
    "@tool\n",
    "def subtract(x: float, y: float) -> float:\n",
    "    \"\"\"\n",
    "    Subtract 'x' from 'y'\n",
    "    \"\"\"\n",
    "    return y - x"
   ]
  },
  {
   "cell_type": "markdown",
   "id": "a9ee7dbc",
   "metadata": {},
   "source": [
    "### Agent with LCEL (LangChain Expression Language)"
   ]
  },
  {
   "cell_type": "code",
   "execution_count": 7,
   "id": "9a687262",
   "metadata": {},
   "outputs": [],
   "source": [
    "from langchain_core.prompts import ChatPromptTemplate, MessagesPlaceholder\n",
    "from langchain_core.runnables.base import RunnableSerializable\n",
    "from langchain_openai import ChatOpenAI"
   ]
  },
  {
   "cell_type": "code",
   "execution_count": 6,
   "id": "395289e5",
   "metadata": {},
   "outputs": [],
   "source": [
    "llm = ChatOpenAI(model=\"gpt-4o-mini\", temperature=0.0)"
   ]
  },
  {
   "cell_type": "code",
   "execution_count": 4,
   "id": "cc0587fc",
   "metadata": {},
   "outputs": [],
   "source": [
    "prompt = ChatPromptTemplate.from_messages([\n",
    "    (\"system\", (\n",
    "        \"You're a helpful assistant. When answering a user's question \"\n",
    "        \"you should first use one of the tools provided. After using a \"\n",
    "        \"tool the tool output will be provided in the \"\n",
    "        \"'scratchpad' below. If you have an answer in the \"\n",
    "        \"scratchpad you should not use any more tools and \"\n",
    "        \"instead answer directly to the user.\"\n",
    "    )),\n",
    "    MessagesPlaceholder(variable_name=\"chat_history\"),\n",
    "    (\"human\", \"{input}\"),\n",
    "    MessagesPlaceholder(variable_name=\"agent_scratchpad\")\n",
    "])"
   ]
  },
  {
   "cell_type": "code",
   "execution_count": 8,
   "id": "eeb25c19",
   "metadata": {},
   "outputs": [],
   "source": [
    "tools = [add, subtract, multiply, exponentiate]"
   ]
  },
  {
   "cell_type": "code",
   "execution_count": 9,
   "id": "2a3e4264",
   "metadata": {},
   "outputs": [],
   "source": [
    "agent: RunnableSerializable = (\n",
    "    {\n",
    "        \"input\": lambda x: x[\"input\"],\n",
    "        \"chat_history\": lambda x: x[\"chat_history\"],\n",
    "        \"agent_scratchpad\": lambda x: x.get(\"agent_scratchpad\", [])\n",
    "    }\n",
    "    | prompt\n",
    "    | llm.bind_tools(tools, tool_choice=\"any\")\n",
    ")"
   ]
  },
  {
   "cell_type": "code",
   "execution_count": 10,
   "id": "0a0ad66b",
   "metadata": {},
   "outputs": [
    {
     "data": {
      "text/plain": [
       "AIMessage(content='', additional_kwargs={'tool_calls': [{'id': 'call_8e0Kwc2h8JVrrLfxRsJ2qX05', 'function': {'arguments': '{\"x\":10,\"y\":10}', 'name': 'add'}, 'type': 'function'}], 'refusal': None}, response_metadata={'token_usage': {'completion_tokens': 17, 'prompt_tokens': 198, 'total_tokens': 215, 'completion_tokens_details': {'accepted_prediction_tokens': 0, 'audio_tokens': 0, 'reasoning_tokens': 0, 'rejected_prediction_tokens': 0}, 'prompt_tokens_details': {'audio_tokens': 0, 'cached_tokens': 0}}, 'model_name': 'gpt-4o-mini-2024-07-18', 'system_fingerprint': 'fp_34a54ae93c', 'id': 'chatcmpl-C3WiVBRb8vE1BNeejMWV3m7IAsNmS', 'service_tier': 'default', 'finish_reason': 'tool_calls', 'logprobs': None}, id='run--c8c89499-9094-43e2-ba62-049e70fa5a54-0', tool_calls=[{'name': 'add', 'args': {'x': 10, 'y': 10}, 'id': 'call_8e0Kwc2h8JVrrLfxRsJ2qX05', 'type': 'tool_call'}], usage_metadata={'input_tokens': 198, 'output_tokens': 17, 'total_tokens': 215, 'input_token_details': {'audio': 0, 'cache_read': 0}, 'output_token_details': {'audio': 0, 'reasoning': 0}})"
      ]
     },
     "execution_count": 10,
     "metadata": {},
     "output_type": "execute_result"
    }
   ],
   "source": [
    "tool_call = agent.invoke({\"input\": \"What is 10 + 10?\", \"chat_history\": []})\n",
    "tool_call"
   ]
  },
  {
   "cell_type": "code",
   "execution_count": 11,
   "id": "264b3675",
   "metadata": {},
   "outputs": [
    {
     "data": {
      "text/plain": [
       "[{'name': 'add',\n",
       "  'args': {'x': 10, 'y': 10},\n",
       "  'id': 'call_8e0Kwc2h8JVrrLfxRsJ2qX05',\n",
       "  'type': 'tool_call'}]"
      ]
     },
     "execution_count": 11,
     "metadata": {},
     "output_type": "execute_result"
    }
   ],
   "source": [
    "tool_call.tool_calls"
   ]
  },
  {
   "cell_type": "code",
   "execution_count": 12,
   "id": "df6702fc",
   "metadata": {},
   "outputs": [],
   "source": [
    "name2tool = {tool.name: tool.func for tool in tools}"
   ]
  },
  {
   "cell_type": "code",
   "execution_count": 13,
   "id": "f536d559",
   "metadata": {},
   "outputs": [
    {
     "data": {
      "text/plain": [
       "{'add': <function __main__.add(x: float, y: float) -> float>,\n",
       " 'subtract': <function __main__.subtract(x: float, y: float) -> float>,\n",
       " 'multiply': <function __main__.multiply(x: float, y: float) -> float>,\n",
       " 'exponentiate': <function __main__.exponentiate(x: float, y: float) -> float>}"
      ]
     },
     "execution_count": 13,
     "metadata": {},
     "output_type": "execute_result"
    }
   ],
   "source": [
    "name2tool"
   ]
  },
  {
   "cell_type": "code",
   "execution_count": 14,
   "id": "91bbde28",
   "metadata": {},
   "outputs": [
    {
     "data": {
      "text/plain": [
       "20"
      ]
     },
     "execution_count": 14,
     "metadata": {},
     "output_type": "execute_result"
    }
   ],
   "source": [
    "tool_exec_content = name2tool[tool_call.tool_calls[0][\"name\"]](**tool_call.tool_calls[0][\"args\"])\n",
    "tool_exec_content"
   ]
  },
  {
   "cell_type": "code",
   "execution_count": 15,
   "id": "fbec8a4f",
   "metadata": {},
   "outputs": [],
   "source": [
    "from langchain_core.messages import ToolMessage"
   ]
  },
  {
   "cell_type": "code",
   "execution_count": 16,
   "id": "201f34e1",
   "metadata": {},
   "outputs": [],
   "source": [
    "tool_exec = ToolMessage(\n",
    "    content=f\"The {tool_call.tool_calls[0]['name']} tool returned {tool_exec_content}\",\n",
    "    tool_call_id=tool_call.tool_calls[0][\"id\"]\n",
    ")"
   ]
  },
  {
   "cell_type": "code",
   "execution_count": null,
   "id": "09ea38fe",
   "metadata": {},
   "outputs": [
    {
     "data": {
      "text/plain": [
       "AIMessage(content='', additional_kwargs={'tool_calls': [{'id': 'call_AscZSjdURGPal0zAlpb6M7wf', 'function': {'arguments': '{\"x\":10,\"y\":10}', 'name': 'add'}, 'type': 'function'}], 'refusal': None}, response_metadata={'token_usage': {'completion_tokens': 17, 'prompt_tokens': 227, 'total_tokens': 244, 'completion_tokens_details': {'accepted_prediction_tokens': 0, 'audio_tokens': 0, 'reasoning_tokens': 0, 'rejected_prediction_tokens': 0}, 'prompt_tokens_details': {'audio_tokens': 0, 'cached_tokens': 0}}, 'model_name': 'gpt-4o-mini-2024-07-18', 'system_fingerprint': 'fp_34a54ae93c', 'id': 'chatcmpl-C3X74U7wcaTMs34ekz42byGeYjYG2', 'service_tier': 'default', 'finish_reason': 'tool_calls', 'logprobs': None}, id='run--d1f74654-3fed-4ca7-b710-fbc96c516a35-0', tool_calls=[{'name': 'add', 'args': {'x': 10, 'y': 10}, 'id': 'call_AscZSjdURGPal0zAlpb6M7wf', 'type': 'tool_call'}], usage_metadata={'input_tokens': 227, 'output_tokens': 17, 'total_tokens': 244, 'input_token_details': {'audio': 0, 'cache_read': 0}, 'output_token_details': {'audio': 0, 'reasoning': 0}})"
      ]
     },
     "execution_count": 19,
     "metadata": {},
     "output_type": "execute_result"
    }
   ],
   "source": [
    "out = agent.invoke({\n",
    "    \"input\": \"What is 10+10?\",\n",
    "    \"chat_history\": [],\n",
    "    \"agent_scratchpad\": [tool_call, tool_exec]\n",
    "})\n",
    "out\n",
    "# note that the content is empty, thats because we defined the llm.bind_tools(tools, tool_choice=\"any\")\n",
    "# 'any' means that the agent will not answer directly, it will call a tool"
   ]
  },
  {
   "cell_type": "code",
   "execution_count": 20,
   "id": "173490e4",
   "metadata": {},
   "outputs": [],
   "source": [
    "# so we need to create a final_answer tool\n",
    "\n",
    "@tool\n",
    "def final_answer(answer: str, tool_used: list[str]) -> str:\n",
    "    \"\"\"\n",
    "    Use this tool to provide a final answer to the user.\n",
    "    The answer should be in natural language as this will be provided\n",
    "    to the user directly. The tools_used must include a list of tool\n",
    "    names that were used within the 'scratchpad'\n",
    "    \"\"\"\n",
    "    return {\"answer\": answer, \"tools_used\": tool_used}"
   ]
  },
  {
   "cell_type": "code",
   "execution_count": 21,
   "id": "6092f92e",
   "metadata": {},
   "outputs": [],
   "source": [
    "tools = [final_answer, add, subtract, multiply, exponentiate]"
   ]
  },
  {
   "cell_type": "code",
   "execution_count": 22,
   "id": "072f2701",
   "metadata": {},
   "outputs": [],
   "source": [
    "name2tool = {tool.name: tool.func for tool in tools}"
   ]
  },
  {
   "cell_type": "code",
   "execution_count": 23,
   "id": "6ab2d9e1",
   "metadata": {},
   "outputs": [],
   "source": [
    "agent2: RunnableSerializable = (\n",
    "    {\n",
    "        \"input\": lambda x: x[\"input\"],\n",
    "        \"chat_history\": lambda x: x[\"chat_history\"],\n",
    "        \"agent_scratchpad\": lambda x: x.get(\"agent_scratchpad\", [])\n",
    "    }\n",
    "    | prompt\n",
    "    | llm.bind_tools(tools=tools, tool_choice=\"any\")\n",
    ")"
   ]
  },
  {
   "cell_type": "code",
   "execution_count": 25,
   "id": "238e735a",
   "metadata": {},
   "outputs": [
    {
     "data": {
      "text/plain": [
       "[{'name': 'add',\n",
       "  'args': {'x': 10, 'y': 10},\n",
       "  'id': 'call_kOevyv38N2zmeO1TGxCEkDta',\n",
       "  'type': 'tool_call'}]"
      ]
     },
     "execution_count": 25,
     "metadata": {},
     "output_type": "execute_result"
    }
   ],
   "source": [
    "tool_call2 = agent2.invoke({\"input\": \"What is 10+10?\", \"chat_history\": []})\n",
    "tool_call2.tool_calls"
   ]
  },
  {
   "cell_type": "code",
   "execution_count": 26,
   "id": "645d0fbc",
   "metadata": {},
   "outputs": [
    {
     "data": {
      "text/plain": [
       "AIMessage(content='', additional_kwargs={'tool_calls': [{'id': 'call_512hOB9FiPezbXOoIK9xR6W9', 'function': {'arguments': '{\"answer\":\"10 + 10 equals 20.\",\"tool_used\":[\"functions.add\"]}', 'name': 'final_answer'}, 'type': 'function'}], 'refusal': None}, response_metadata={'token_usage': {'completion_tokens': 27, 'prompt_tokens': 299, 'total_tokens': 326, 'completion_tokens_details': {'accepted_prediction_tokens': 0, 'audio_tokens': 0, 'reasoning_tokens': 0, 'rejected_prediction_tokens': 0}, 'prompt_tokens_details': {'audio_tokens': 0, 'cached_tokens': 0}}, 'model_name': 'gpt-4o-mini-2024-07-18', 'system_fingerprint': 'fp_34a54ae93c', 'id': 'chatcmpl-C3XJD3lW3QldryNmpCddXQNCa0RDw', 'service_tier': 'default', 'finish_reason': 'tool_calls', 'logprobs': None}, id='run--01d3ceb2-2de8-4c2b-b986-04eadb1054fc-0', tool_calls=[{'name': 'final_answer', 'args': {'answer': '10 + 10 equals 20.', 'tool_used': ['functions.add']}, 'id': 'call_512hOB9FiPezbXOoIK9xR6W9', 'type': 'tool_call'}], usage_metadata={'input_tokens': 299, 'output_tokens': 27, 'total_tokens': 326, 'input_token_details': {'audio': 0, 'cache_read': 0}, 'output_token_details': {'audio': 0, 'reasoning': 0}})"
      ]
     },
     "execution_count": 26,
     "metadata": {},
     "output_type": "execute_result"
    }
   ],
   "source": [
    "tool_out = name2tool[tool_call2.tool_calls[0][\"name\"]](**tool_call2.tool_calls[0][\"args\"])\n",
    "\n",
    "tool_exec2 = ToolMessage(\n",
    "    content=f\"The {tool_call2.tool_calls[0]['name']} tool returned {tool_out}\",\n",
    "    tool_call_id=tool_call2.tool_calls[0][\"id\"]\n",
    ")\n",
    "\n",
    "out = agent2.invoke({\n",
    "    \"input\": \"What is 10+10?\",\n",
    "    \"chat_history\": [],\n",
    "    \"agent_scratchpad\": [tool_call2, tool_exec2]\n",
    "})\n",
    "out"
   ]
  },
  {
   "cell_type": "code",
   "execution_count": 27,
   "id": "5b56625f",
   "metadata": {},
   "outputs": [
    {
     "data": {
      "text/plain": [
       "[{'name': 'final_answer',\n",
       "  'args': {'answer': '10 + 10 equals 20.', 'tool_used': ['functions.add']},\n",
       "  'id': 'call_512hOB9FiPezbXOoIK9xR6W9',\n",
       "  'type': 'tool_call'}]"
      ]
     },
     "execution_count": 27,
     "metadata": {},
     "output_type": "execute_result"
    }
   ],
   "source": [
    "out.tool_calls"
   ]
  },
  {
   "cell_type": "code",
   "execution_count": 28,
   "id": "1ad8cdf2",
   "metadata": {},
   "outputs": [
    {
     "data": {
      "text/plain": [
       "{'answer': '10 + 10 equals 20.', 'tool_used': ['functions.add']}"
      ]
     },
     "execution_count": 28,
     "metadata": {},
     "output_type": "execute_result"
    }
   ],
   "source": [
    "out.tool_calls[0][\"args\"]"
   ]
  },
  {
   "cell_type": "code",
   "execution_count": null,
   "id": "449257aa",
   "metadata": {},
   "outputs": [],
   "source": []
  }
 ],
 "metadata": {
  "kernelspec": {
   "display_name": ".venv",
   "language": "python",
   "name": "python3"
  },
  "language_info": {
   "codemirror_mode": {
    "name": "ipython",
    "version": 3
   },
   "file_extension": ".py",
   "mimetype": "text/x-python",
   "name": "python",
   "nbconvert_exporter": "python",
   "pygments_lexer": "ipython3",
   "version": "3.10.5"
  }
 },
 "nbformat": 4,
 "nbformat_minor": 5
}
